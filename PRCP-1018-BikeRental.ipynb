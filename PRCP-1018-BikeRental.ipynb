{
 "cells": [
  {
   "cell_type": "markdown",
   "id": "c25b28d4-1db2-4fcc-a02a-63b65911969f",
   "metadata": {},
   "source": [
    "# PRCP-1018-BikeRental"
   ]
  },
  {
   "cell_type": "markdown",
   "id": "de0a55cd-50b2-43ee-807c-338588611fe8",
   "metadata": {},
   "source": [
    "### Problem Statement"
   ]
  },
  {
   "cell_type": "markdown",
   "id": "bc656add-ca66-4218-91b2-2735d269a991",
   "metadata": {},
   "source": [
    "By predicting rental patterns, companies can adapt their pricing strategies according to anticipated demand. This involves forecasting the daily/hourly bike rental count using machine learning algorithms, taking into account environmental factors and seasonal conditions."
   ]
  },
  {
   "cell_type": "markdown",
   "id": "da432457-2b36-40b1-9ab0-bd95ef5e4fe1",
   "metadata": {},
   "source": [
    "### 1.Importing Libraries"
   ]
  },
  {
   "cell_type": "code",
   "execution_count": null,
   "id": "011e940f-814d-4e13-91b2-51e288db07cb",
   "metadata": {},
   "outputs": [],
   "source": [
    "# Importing numpy library for working with arrays\n",
    "import numpy as np\n",
    "\n",
    "# Importing pandas library for working with data sets\n",
    "import pandas as pd\n",
    "\n",
    "# Importing seaborn library for visualization\n",
    "import seaborn as sns\n",
    "\n",
    "# Importing matplotlib.pyplot for visualization\n",
    "import matplotlib.pyplot as plt\n",
    "%matplotlib inline\n",
    "\n",
    "# Importing warnings for disable warnings from the code\n",
    "import warnings\n",
    "\n",
    "# To ignore the warnings\n",
    "warnings.filterwarnings('ignore')\n",
    "\n",
    "# Importing ProfileReport from ydata_profiling\n",
    "from ydata_profiling import ProfileReport\n",
    "\n",
    "# Importing train_test_split\n",
    "from sklearn.model_selection import train_test_split\n",
    "\n",
    "# Importing metrics for evaluating the performance of Regression models\n",
    "from sklearn.metrics import *\n",
    "\n",
    "# Importing LogisticRegressor model from sklearn\n",
    "from sklearn.linear_model import LinearRegression\n",
    "\n",
    "# Importing DecisionTreeRegressor model from sklearn\n",
    "from sklearn.tree import DecisionTreeRegressor\n",
    "\n",
    "# Importing RandomForestRegressor model from sklearn\n",
    "from sklearn.ensemble import RandomForestRegressor\n",
    "\n",
    "# Importing XGBRegressor model from sklearn\n",
    "from xgboost import XGBRegressor\n",
    "\n",
    "# Importing SVR model from sklearn\n",
    "from sklearn.svm import SVR\n",
    "\n",
    "#Importing Kneighborsregressor model from sklearn\n",
    "from sklearn.neighbors import KNeighborsRegressor\n",
    "\n",
    "#Importing GradientBoostingRegressor\n",
    "from sklearn.ensemble import GradientBoostingRegressor\n",
    "\n",
    "# Importing RandomizedSearchCV for Hyperparameter tuning\n",
    "from sklearn.model_selection import RandomizedSearchCV"
   ]
  },
  {
   "cell_type": "markdown",
   "id": "fce97b4d-744f-4f0b-b2db-6f09a1641bfe",
   "metadata": {},
   "source": [
    "### 2.Importing Data"
   ]
  },
  {
   "cell_type": "code",
   "execution_count": null,
   "id": "4bc619f7-241b-403e-bda8-51049dccaa31",
   "metadata": {},
   "outputs": [],
   "source": [
    "day_data=pd.read_csv('day.csv',parse_dates=['dteday'])\n",
    "day_data"
   ]
  },
  {
   "cell_type": "code",
   "execution_count": null,
   "id": "0d46f037-785e-4749-930b-18b0d5e08280",
   "metadata": {},
   "outputs": [],
   "source": [
    "hr_data=pd.read_csv('hour.csv',parse_dates=['dteday'])\n",
    "hr_data"
   ]
  },
  {
   "cell_type": "markdown",
   "id": "04b9ddee-3107-4252-8f76-6b9bd0245690",
   "metadata": {},
   "source": [
    "### 3.Domain Analysis"
   ]
  },
  {
   "cell_type": "markdown",
   "id": "2ca265f3-d901-4f6d-9754-1ba609f44d06",
   "metadata": {},
   "source": [
    "1. instant: It holds a unique identifier for each record.\n",
    "2. dteday: This column will have the date of the record, in a format like YYYY-MM-DD.\n",
    "3. season: This column indicates the season of the year where-1: Winter,2: Spring,3: Summer,4: Fall.\n",
    "4. yr: It holds the the year of the observation, where-0: 2011,1: 2012.\n",
    "5. mnth: This column tells the month of the year (1–12).\n",
    "6. hr: This tells the hour of the day (0–23).\n",
    "7. holiday: Here we can know whether the day is a holiday or not.\n",
    "8. weekday: The day of the week (likely from 0 to 6, corresponding to Monday to Sunday).\n",
    "9. workingday: A binary flag indicating whether the day is a working day (1 for working days, 0 for weekends or holidays).\n",
    "10. weathersit: Here we can know the weather condition, represented as-1: Clear, Few clouds, Partly cloudy,2: Mist, Cloudy, Broken clouds, Few clouds,3: Light Snow, Light Rain with Thunderstorm, Scattered clouds,4: Heavy Rain, Ice Pellets, Thunderstorm, Mist, Snow with Fog\n",
    "11. temp: This column tells the normalized temperature in Celsius (normalized between -8 and 39).\n",
    "12. atemp: It holds the normalized feeling temperature in Celsius (normalized between -16 and 50).\n",
    "13. hum: This column tells the normalized humidity (values between 0 and 1, where the maximum is 100%).\n",
    "14. windspeed: This will let us know the normalized wind speed (values between 0 and 1, divided by a maximum value of 67).\n",
    "15. casual: It tells the count of casual users (non-registered bike renters).\n",
    "16. registered: This column holds the count of registered users (subscribers).\n",
    "17. cnt: In this column will get the information about the total number of bike rentals (both casual and registered users)."
   ]
  },
  {
   "cell_type": "code",
   "execution_count": null,
   "id": "4044e40e-5b2d-4aef-967f-831ea83a66bf",
   "metadata": {},
   "outputs": [],
   "source": [
    "#getting the peak hour of the day\n",
    "peak_hour = hr_data.loc[hr_data.groupby('dteday')['cnt'].idxmax().reset_index(drop=True), ['dteday', 'hr']]\n",
    "peak_hour.rename(columns={'hr': 'peak_hour'},inplace=True)"
   ]
  },
  {
   "cell_type": "code",
   "execution_count": null,
   "id": "bd9af5e2-57ec-448b-8753-55f0268209de",
   "metadata": {},
   "outputs": [],
   "source": [
    "#getting the count of rentals during the peak hour for each day\n",
    "peak_hour_counts=hr_data.groupby('dteday')['cnt'].max().reset_index()\n",
    "peak_hour_counts.rename(columns={'cnt':'peak_hour_rentals'},inplace=True)"
   ]
  },
  {
   "cell_type": "code",
   "execution_count": null,
   "id": "3b5511c3-8566-4b2e-838f-12c9b847db3d",
   "metadata": {},
   "outputs": [],
   "source": [
    "#count of rentals in day_time\n",
    "day_rentals = hr_data[(hr_data['hr'] >= 6) & (hr_data['hr'] <=12)].groupby('dteday')['cnt'].sum().reset_index()\n",
    "day_rentals.rename(columns={'cnt': 'day_rentals'},inplace=True)"
   ]
  },
  {
   "cell_type": "code",
   "execution_count": null,
   "id": "89ce9165-1509-4e3a-b864-6e158c2d53ff",
   "metadata": {},
   "outputs": [],
   "source": [
    "#count of rentals at night_time\n",
    "night_rentals = hr_data[(hr_data['hr'] >=21) | (hr_data['hr'] <=4)].groupby('dteday')['cnt'].sum().reset_index()\n",
    "night_rentals.rename(columns={'cnt': 'night_rentals'},inplace=True)"
   ]
  },
  {
   "cell_type": "code",
   "execution_count": null,
   "id": "2678e8db-8844-40f4-8e90-f8fb3785a568",
   "metadata": {},
   "outputs": [],
   "source": [
    "data = day_data.copy()\n",
    "\n",
    "# Merging all features on 'dteday'\n",
    "data = data.merge(peak_hour, on='dteday', how='left')\n",
    "data = data.merge(peak_hour_counts, on='dteday', how='left')\n",
    "data = data.merge(day_rentals, on='dteday', how='left')\n",
    "data = data.merge(night_rentals, on='dteday',how='left')"
   ]
  },
  {
   "cell_type": "code",
   "execution_count": null,
   "id": "09ae5ee1-6090-424b-ad15-57812caec421",
   "metadata": {},
   "outputs": [],
   "source": [
    "data"
   ]
  },
  {
   "cell_type": "code",
   "execution_count": null,
   "id": "ce50af8f-4808-48de-bba5-c23324517a86",
   "metadata": {},
   "outputs": [],
   "source": [
    "data['morning_rental_ratio'] = data['day_rentals'] / data['cnt']\n",
    "data['night_rental_ratio'] = data['night_rentals'] / data['cnt']"
   ]
  },
  {
   "cell_type": "code",
   "execution_count": null,
   "id": "ce3b5806-a6a6-4f99-940f-f1d715823366",
   "metadata": {},
   "outputs": [],
   "source": [
    "data.drop(columns=['day_rentals','night_rentals'],inplace=True)"
   ]
  },
  {
   "cell_type": "code",
   "execution_count": null,
   "id": "3d3e815d-854e-4903-85f8-ff9f9d778197",
   "metadata": {},
   "outputs": [],
   "source": [
    "col_to_move = 'cnt'  \n",
    "data[col_to_move] = data.pop(col_to_move) "
   ]
  },
  {
   "cell_type": "markdown",
   "id": "d06d6316-2942-4d4d-949c-284e8fffec1f",
   "metadata": {},
   "source": [
    "Insight: The hour and day data shared the same features, except for the hour predictor. As a result, we created a new columns based on the hour and merged it with the day data."
   ]
  },
  {
   "cell_type": "markdown",
   "id": "088b25ca-765d-4f51-a725-b63fb9e78f9e",
   "metadata": {},
   "source": [
    "### 4.Basic Checks"
   ]
  },
  {
   "cell_type": "code",
   "execution_count": null,
   "id": "7fb870df-3777-47d0-8704-0bd91be456e3",
   "metadata": {
    "scrolled": true
   },
   "outputs": [],
   "source": [
    "#checking the first five rows of the data\n",
    "data.head()"
   ]
  },
  {
   "cell_type": "code",
   "execution_count": null,
   "id": "5811454a-c607-44c6-9015-75fd1f5f39f0",
   "metadata": {},
   "outputs": [],
   "source": [
    "#checking the last five rows of the data\n",
    "data.tail()"
   ]
  },
  {
   "cell_type": "code",
   "execution_count": null,
   "id": "575b1110-b3d1-4fc6-b32c-c9be6a98a783",
   "metadata": {},
   "outputs": [],
   "source": [
    "#checking the number of rows and column in the data\n",
    "data.shape"
   ]
  },
  {
   "cell_type": "markdown",
   "id": "685d4b0b-4c04-424b-9d00-ba4523eaeda2",
   "metadata": {},
   "source": [
    "Insight: We have 731 observations, 19 predictors and 1 target variable."
   ]
  },
  {
   "cell_type": "code",
   "execution_count": null,
   "id": "007029a6-1a71-4256-bf8b-233c758f34bf",
   "metadata": {},
   "outputs": [],
   "source": [
    "#checking the predictors of the data\n",
    "data.columns"
   ]
  },
  {
   "cell_type": "code",
   "execution_count": null,
   "id": "a999c722-b6ba-45da-b1b7-bb279c8e60e4",
   "metadata": {},
   "outputs": [],
   "source": [
    "#checking the unique values\n",
    "for i in data:\n",
    "    print(i)\n",
    "    print(data[i].unique())\n",
    "    print(f'Number of unique values:{data[i].nunique()}')\n",
    "    print('  ')"
   ]
  },
  {
   "cell_type": "code",
   "execution_count": null,
   "id": "c647c0a0-ebd2-4e7f-9a97-53860ac20afb",
   "metadata": {},
   "outputs": [],
   "source": [
    "#checking the count of unique values\n",
    "for i in data:\n",
    "    print(data[i].value_counts())"
   ]
  },
  {
   "cell_type": "code",
   "execution_count": null,
   "id": "634fde11-16d7-4243-b0fc-416a43980a0d",
   "metadata": {},
   "outputs": [],
   "source": [
    "#checking a concise summary of a data\n",
    "data.info()"
   ]
  },
  {
   "cell_type": "code",
   "execution_count": null,
   "id": "46b31eeb-8686-4f3e-bb80-b7d7ec660073",
   "metadata": {},
   "outputs": [],
   "source": [
    "#To check the descriptive statistics of a data\n",
    "data.describe()"
   ]
  },
  {
   "cell_type": "markdown",
   "id": "3c6db113-50a3-442e-be16-ca38656abb2d",
   "metadata": {},
   "source": [
    "### 5.Exploratory Data Analysis(EDA)"
   ]
  },
  {
   "cell_type": "code",
   "execution_count": null,
   "id": "e5d7164d-f831-49e4-8d66-4387f827eac7",
   "metadata": {
    "scrolled": true
   },
   "outputs": [],
   "source": [
    "report=ProfileReport(data,title='Bike Rental Prediction',explorative=False)\n",
    "report"
   ]
  },
  {
   "cell_type": "markdown",
   "id": "5863525e-78a3-4dfc-9792-47f592102563",
   "metadata": {},
   "source": [
    "Insight:The data has 10 Numerical,1 Datetime and 5 Categorical columns."
   ]
  },
  {
   "cell_type": "markdown",
   "id": "97af3b5e-05ea-467f-9c2b-043ee269607c",
   "metadata": {},
   "source": [
    "#### 5.1 Univariate Analysis"
   ]
  },
  {
   "cell_type": "markdown",
   "id": "42097892-2acb-45b4-b0dd-f957482e385a",
   "metadata": {},
   "source": [
    "#### 5.1.1 For Categorical Column"
   ]
  },
  {
   "cell_type": "code",
   "execution_count": null,
   "id": "62b5168d-1273-40ff-bfe0-810d3bb6a8b1",
   "metadata": {},
   "outputs": [],
   "source": [
    "#examining a single variable"
   ]
  },
  {
   "cell_type": "code",
   "execution_count": null,
   "id": "ced09865-09b7-4984-938d-00a64feee6e4",
   "metadata": {},
   "outputs": [],
   "source": [
    "categorical_col=['season','yr','holiday','workingday','weathersit']\n",
    "plt.figure(figsize=(20,25))\n",
    "plotnumber=1\n",
    "for i in categorical_col:\n",
    "    if plotnumber<=5:\n",
    "        sp=plt.subplot(3,3,plotnumber)\n",
    "        sns.countplot(x=i,data=data)\n",
    "        \n",
    "        plt.xlabel(i.title(),fontsize=20)\n",
    "        plt.ylabel('count',fontsize=20)\n",
    "    plotnumber+=1\n",
    "plt.tight_layout()      "
   ]
  },
  {
   "cell_type": "markdown",
   "id": "e2e3124a-d4c7-4c2a-a024-2dbf58bd6aa0",
   "metadata": {},
   "source": [
    "#### 5.1.2 For Numerical Columns"
   ]
  },
  {
   "cell_type": "code",
   "execution_count": null,
   "id": "a8e98d62-1a4c-409f-a14f-e14ff890de91",
   "metadata": {},
   "outputs": [],
   "source": [
    "numerical_col=['mnth','weekday','temp', 'atemp', 'hum', 'windspeed','casual', 'registered','peak_hour', 'peak_hour_rentals',\n",
    "       'morning_rental_ratio', 'night_rental_ratio']\n",
    "plt.figure(figsize=(20,30),facecolor='white')\n",
    "plotnumber=1\n",
    "for i in numerical_col:\n",
    "    if plotnumber<=12:\n",
    "        sp=plt.subplot(4,3,plotnumber)\n",
    "        sns.histplot(data[i],kde=True)\n",
    "\n",
    "        plt.xlabel(i.title(),fontsize=20)\n",
    "        plt.ylabel('count',fontsize=20)\n",
    "    plotnumber+=1\n",
    "plt.tight_layout()"
   ]
  },
  {
   "cell_type": "markdown",
   "id": "97b3e861-8340-4f2c-8c18-a0b16091c47f",
   "metadata": {},
   "source": [
    "#### 5.2 Bivariate Analysis"
   ]
  },
  {
   "cell_type": "code",
   "execution_count": null,
   "id": "476cc080-0a7d-4645-9e2d-46f28ee911d2",
   "metadata": {},
   "outputs": [],
   "source": [
    "#examining the relationship between the numerical and categorical variable"
   ]
  },
  {
   "cell_type": "code",
   "execution_count": null,
   "id": "36201e18-6999-432d-a9c7-29a7a03fe2ac",
   "metadata": {},
   "outputs": [],
   "source": [
    "plt.figure(figsize=(20,20),facecolor='white')\n",
    "plotnumber=1\n",
    "for i in categorical_col:\n",
    "    if plotnumber<=5:\n",
    "        sp=plt.subplot(3,3,plotnumber)\n",
    "        sns.boxplot(x=i,y='cnt',data=data)\n",
    "\n",
    "        plt.xlabel(i.title(),fontsize=20)\n",
    "        plt.ylabel('cnt',fontsize=20)\n",
    "    plotnumber+=1\n",
    "plt.tight_layout()"
   ]
  },
  {
   "cell_type": "code",
   "execution_count": null,
   "id": "4f4a20ba-608b-4547-b8ac-ff991a868709",
   "metadata": {},
   "outputs": [],
   "source": [
    "#examining the relationship between two numerical variables"
   ]
  },
  {
   "cell_type": "code",
   "execution_count": null,
   "id": "9f5c5e53-b9fe-46ed-a1aa-65fb9a554d27",
   "metadata": {},
   "outputs": [],
   "source": [
    "plt.figure(figsize=(20,18),facecolor='white')\n",
    "plotnumber=1\n",
    "for i in numerical_col:\n",
    "    if plotnumber<=12:\n",
    "        sp=plt.subplot(4,3,plotnumber)\n",
    "        sns.scatterplot(x=i,y='cnt',data=data)\n",
    "\n",
    "        plt.xlabel(i.title(),fontsize=20)\n",
    "        plt.ylabel('cnt',fontsize=20)\n",
    "    plotnumber+=1\n",
    "plt.tight_layout()"
   ]
  },
  {
   "cell_type": "markdown",
   "id": "9a04351d-1f03-4176-bac9-87394226a0e1",
   "metadata": {},
   "source": [
    "#### 5.3 Multivariate Analysis"
   ]
  },
  {
   "cell_type": "code",
   "execution_count": null,
   "id": "750a870d-1472-4566-bc67-dc691f5dec5f",
   "metadata": {},
   "outputs": [],
   "source": [
    "#to understand relationships, patterns, and dependencies between variables\n",
    "sns.pairplot(data)\n",
    "plt.show()"
   ]
  },
  {
   "cell_type": "markdown",
   "id": "e65d2341-604c-42fc-b34f-de35bef0aad2",
   "metadata": {},
   "source": [
    "#### 5.4 Correlation"
   ]
  },
  {
   "cell_type": "code",
   "execution_count": null,
   "id": "5ff9867b-d170-43c3-9c63-1138a32e4dc1",
   "metadata": {
    "scrolled": true
   },
   "outputs": [],
   "source": [
    "#visualizing the correlation between variables\n",
    "correlation_matrix=data.drop(columns=['cnt']).corr()\n",
    "plt.figure(figsize=(15,10))\n",
    "sns.heatmap(correlation_matrix,annot=True,cmap='coolwarm',fmt='.2f')\n",
    "plt.title('Correlation Matrix',fontsize=15)\n",
    "plt.show()"
   ]
  },
  {
   "cell_type": "markdown",
   "id": "95ee6fc7-4433-40cc-b0c5-93464c342496",
   "metadata": {},
   "source": [
    "Insights:\n",
    "1. Bike rentals are significantly higher during the summer season.\n",
    "2. The number of bike rentals is relatively low during weather conditions such as Light Snow, Light Rain with Thunderstorms, and Scattered Clouds.\n",
    "3. The count of bike rentals is particularly low in the spring season and holidays(i.e.weekend).\r",
    "4. The highest number of rentals occurs during favorable weather conditions, while the lowest rentals are observed during poor weather conditions.\n",
    "5. The season variable has a strong correlation with the month variable.\n",
    "6. Temperature (temp) and feels-like temperature (atemp) are positively correlated with cnt (bike rentals).\n",
    "7. The highest number of rentals occurs between 15.00 PM and 20.00 PM."
   ]
  },
  {
   "cell_type": "markdown",
   "id": "1b95ac31-6407-436b-86da-59c053fd720c",
   "metadata": {},
   "source": [
    "### 6.Data Preprocessing"
   ]
  },
  {
   "cell_type": "markdown",
   "id": "8f5fcb3d-d5d7-4bbd-8952-16c979e42eca",
   "metadata": {},
   "source": [
    "#### 6.1 Dropping an unrequired Columns"
   ]
  },
  {
   "cell_type": "code",
   "execution_count": null,
   "id": "fcc2f34d-a973-4d2c-a401-812559f0a0e1",
   "metadata": {},
   "outputs": [],
   "source": [
    "columns_to_drop=['instant','dteday','season','atemp','casual','registered']\n",
    "for i in columns_to_drop:\n",
    "    if i in data.columns:\n",
    "        data.drop(columns=[i],inplace=True)\n",
    "data"
   ]
  },
  {
   "cell_type": "markdown",
   "id": "f2228c8d-38f3-4757-a630-6a3164e62bfd",
   "metadata": {},
   "source": [
    "Insights:\n",
    "1. Dropped the 'instant' and 'dteday' features because they contain unique values, making them irrelevant for analysis.\n",
    "2. Dropped 'season'and 'atemp' due to high correlation with 'mnth' and 'temp',reducing redundancy and avoiding multicollinearity.\n",
    "3. The 'casual' and 'registered' features were removed since their cumulative sum forms 'cnt', the target variable. Keeping them could lead to data leakage in predictive modeling. "
   ]
  },
  {
   "cell_type": "markdown",
   "id": "c7fc7937-2a0e-403d-af66-e533795eb8e2",
   "metadata": {},
   "source": [
    "#### 6.2 Handlling Null Values"
   ]
  },
  {
   "cell_type": "code",
   "execution_count": null,
   "id": "253cc7a9-1593-4f85-853e-936d119b7a70",
   "metadata": {},
   "outputs": [],
   "source": [
    "#checking the null values\n",
    "print(data.isnull().sum())"
   ]
  },
  {
   "cell_type": "code",
   "execution_count": null,
   "id": "d9edc6ce-301b-4d06-b38b-22563ef64ea0",
   "metadata": {},
   "outputs": [],
   "source": [
    "#getting the row containing null value\n",
    "data[data['morning_rental_ratio'].isna()]"
   ]
  },
  {
   "cell_type": "code",
   "execution_count": null,
   "id": "fd40f599-1a69-48c7-884e-db849babd808",
   "metadata": {},
   "outputs": [],
   "source": [
    "data['morning_rental_ratio']=data['morning_rental_ratio'].fillna(0)"
   ]
  },
  {
   "cell_type": "code",
   "execution_count": null,
   "id": "2a3a7587-46f6-4e7a-8c24-0914479b87f5",
   "metadata": {},
   "outputs": [],
   "source": [
    "data.isnull().sum().sum()"
   ]
  },
  {
   "cell_type": "markdown",
   "id": "0c49a443-614f-43da-abe2-79d746ab4b46",
   "metadata": {},
   "source": [
    "Insight:The final dataset contained null values, which we successfully handled using the fillna() method to ensure data consistency."
   ]
  },
  {
   "cell_type": "markdown",
   "id": "1e3b1b1c-3eff-4461-b365-5a562a4c039a",
   "metadata": {},
   "source": [
    "#### 6.3 Handling Duplicates"
   ]
  },
  {
   "cell_type": "code",
   "execution_count": null,
   "id": "36c99abb-a952-4589-b204-2c557cb133e6",
   "metadata": {},
   "outputs": [],
   "source": [
    "#checking for duplicates\n",
    "print(data.duplicated())"
   ]
  },
  {
   "cell_type": "markdown",
   "id": "a4dad284-2bc8-45b2-b137-fd04d11280f0",
   "metadata": {},
   "source": [
    "Insight:Thre are no duplicates."
   ]
  },
  {
   "cell_type": "markdown",
   "id": "25195543-e43f-4e98-b6a5-29f0447968fe",
   "metadata": {},
   "source": [
    "#### 6.4 Outliers Handling"
   ]
  },
  {
   "cell_type": "code",
   "execution_count": null,
   "id": "995fa3dd-45e8-4089-9504-f1560bd16851",
   "metadata": {},
   "outputs": [],
   "source": [
    "#checkking the outliers\n",
    "plt.figure(figsize=(25,10))\n",
    "sns.boxplot(data)\n",
    "plt.title(\"Boxplot for Outlier Detection\",fontsize=15)\n",
    "plt.show()"
   ]
  },
  {
   "cell_type": "markdown",
   "id": "548a4809-d397-4caa-aa5a-83f4bb124618",
   "metadata": {},
   "source": [
    "Insight:There are no significant outliers in this dataset, as observed from the boxplot analysis."
   ]
  },
  {
   "cell_type": "markdown",
   "id": "44e41148-4e43-4e66-9944-2500f873d036",
   "metadata": {},
   "source": [
    "### 7.Data Splitting"
   ]
  },
  {
   "cell_type": "code",
   "execution_count": null,
   "id": "a126e187-b8a5-4615-bcb7-6def3599c2fb",
   "metadata": {},
   "outputs": [],
   "source": [
    "#extracting independent features from the data\n",
    "x=data.iloc[:,:-1]\n",
    "\n",
    "#extracting dependent feature\n",
    "y=data['cnt']"
   ]
  },
  {
   "cell_type": "code",
   "execution_count": null,
   "id": "f81f7077-8a22-4cb8-a7dd-264dc0cbb83c",
   "metadata": {},
   "outputs": [],
   "source": [
    "#splitting the training and testing data\n",
    "x_train,x_test,y_train,y_test=train_test_split(x,y,train_size=0.70,random_state=42)"
   ]
  },
  {
   "cell_type": "markdown",
   "id": "72eebff2-0c91-40ee-a819-300c08175989",
   "metadata": {},
   "source": [
    "### 8.Model Training"
   ]
  },
  {
   "cell_type": "markdown",
   "id": "12b7fdf2-6930-4711-a45b-d67bb9e4d536",
   "metadata": {},
   "source": [
    "### 8.1 Linear Regression"
   ]
  },
  {
   "cell_type": "code",
   "execution_count": null,
   "id": "54b39612-e1cd-45d2-954b-bd8dd75bc458",
   "metadata": {},
   "outputs": [],
   "source": [
    "# Initializing LinearRegression model\n",
    "linear_model=LinearRegression()\n",
    "\n",
    "# Fitting the training data to the Linear Regression model\n",
    "linear_model.fit(x_train,y_train)\n",
    "\n",
    "# predicting the target for testing data\n",
    "y_pred_linear=linear_model.predict(x_test)"
   ]
  },
  {
   "cell_type": "code",
   "execution_count": null,
   "id": "fe49330d-d79b-4f12-803d-f72c540eff45",
   "metadata": {},
   "outputs": [],
   "source": [
    "# Evaluating the LinearRegression model's performance by R2_score \n",
    "Linear_R2=r2_score(y_test,y_pred_linear)\n",
    "print(f'r2_score(linear)        : {Linear_R2}')\n",
    "print(f'mean_squared_error      : {mean_squared_error(y_test,y_pred_linear)}')\n",
    "print(f'mean_absolute_error     : {mean_absolute_error(y_test,y_pred_linear)}')\n",
    "print(f'root_mean_square_error  : {np.sqrt(mean_squared_error(y_test,y_pred_linear))}')"
   ]
  },
  {
   "cell_type": "markdown",
   "id": "4fd42182-15be-4eba-b30d-9098cc30e60b",
   "metadata": {},
   "source": [
    "### 8.2 Decision Tree"
   ]
  },
  {
   "cell_type": "code",
   "execution_count": null,
   "id": "4467aa6f-0add-4066-bd92-b2c03afaceca",
   "metadata": {},
   "outputs": [],
   "source": [
    "#initializing the model\n",
    "DT=DecisionTreeRegressor()\n",
    "\n",
    "#fitting the training data to the model\n",
    "DT.fit(x_train,y_train)\n",
    "\n",
    "#predicting the target for testing data\n",
    "y_pred_DT=DT.predict(x_test)"
   ]
  },
  {
   "cell_type": "code",
   "execution_count": null,
   "id": "d15e26e2-91dc-4f0e-acde-094cf706f4fc",
   "metadata": {},
   "outputs": [],
   "source": [
    "# Evaluating the DecisionTreeRegressor model's performance by R2_score \n",
    "DT_R2=r2_score(y_test,y_pred_DT)\n",
    "print(f'r2_score(Dt) : {DT_R2}')"
   ]
  },
  {
   "cell_type": "markdown",
   "id": "7aa6d749-37ae-4877-ad91-12dfe3fd6bcf",
   "metadata": {},
   "source": [
    "#### 8.2.1 Hyperparameter Tuning"
   ]
  },
  {
   "cell_type": "code",
   "execution_count": null,
   "id": "68f82f2f-da6f-4c98-851e-48d10c218b83",
   "metadata": {},
   "outputs": [],
   "source": [
    "# Initializing DecisionTreeRegressor model\n",
    "DT_hp=DecisionTreeRegressor()"
   ]
  },
  {
   "cell_type": "code",
   "execution_count": null,
   "id": "db813dac-dcd7-4cec-9244-cc1bd6d497b1",
   "metadata": {},
   "outputs": [],
   "source": [
    "# Creating a dictionary with possible Hyperparameters\n",
    "params={'splitter':[\"best\", \"random\"],\n",
    "        'criterion':[\"squared_error\", \"absolute_error\"],\n",
    "        'max_depth':list(range(1,20)),\n",
    "        'min_samples_split':list(range(1,20)),\n",
    "        'min_samples_leaf':list(range(1,20)),\n",
    "        }"
   ]
  },
  {
   "cell_type": "code",
   "execution_count": null,
   "id": "0606236a-fc03-49f9-8d98-7776b621a872",
   "metadata": {},
   "outputs": [],
   "source": [
    "# Initializing RandomizedSearchCV\n",
    "tree_cv=RandomizedSearchCV(estimator=DT_hp,\n",
    "                    param_distributions=params,\n",
    "                    scoring='r2',\n",
    "                    n_jobs=-1,\n",
    "                    cv=5,\n",
    "                    verbose=3)"
   ]
  },
  {
   "cell_type": "code",
   "execution_count": null,
   "id": "52901771-866c-4528-ba57-e0264a338500",
   "metadata": {},
   "outputs": [],
   "source": [
    "# Fitting the training data to the RandomizedSearchCV\n",
    "tree_cv.fit(x_train,y_train)"
   ]
  },
  {
   "cell_type": "code",
   "execution_count": null,
   "id": "c3e0d65a-fbf1-46d6-9912-0bd2abf3dd6a",
   "metadata": {},
   "outputs": [],
   "source": [
    "# Getting best hyperparameters\n",
    "tree_cv.best_params_"
   ]
  },
  {
   "cell_type": "code",
   "execution_count": null,
   "id": "54488fcd-1075-4d18-9dd3-b2ab8a9a13c1",
   "metadata": {},
   "outputs": [],
   "source": [
    "# Initializing DecisionTreeRegressor model\n",
    "decision_tree_model=DecisionTreeRegressor(criterion='squared_error',max_depth=16,min_samples_leaf=13,min_samples_split=12,splitter='best')\n",
    "\n",
    "# Fitting the training data to the DecisionTreeRegressor model\n",
    "decision_tree_model.fit(x_train,y_train)\n",
    "\n",
    "# predicting the target for testing data\n",
    "y_pred_hp=decision_tree_model.predict(x_test)"
   ]
  },
  {
   "cell_type": "code",
   "execution_count": null,
   "id": "cf07493d-bccb-4d0e-801f-520e6d594276",
   "metadata": {},
   "outputs": [],
   "source": [
    "# Evaluating the DecisionTreeRegressor model's performance by R2_score \n",
    "Dt_hp_R2=r2_score(y_test,y_pred_hp)\n",
    "print(f'r2_score(Dt)            : {Dt_hp_R2}')\n",
    "print(f'mean_squared_error      : {mean_squared_error(y_test,y_pred_hp)}')\n",
    "print(f'mean_absolute_error     : {mean_absolute_error(y_test,y_pred_DT)}')\n",
    "print(f'root_mean_square_error  : {np.sqrt(mean_squared_error(y_test,y_pred_DT))}')"
   ]
  },
  {
   "cell_type": "markdown",
   "id": "5233bba6-30a2-426b-9d70-8b5fd1009504",
   "metadata": {},
   "source": [
    "### 8.3 Random Forest"
   ]
  },
  {
   "cell_type": "code",
   "execution_count": null,
   "id": "73fa72da-a95e-4062-b282-814b1983be52",
   "metadata": {},
   "outputs": [],
   "source": [
    "# Initializing RandomForestRegressor model\n",
    "RF_model=RandomForestRegressor()\n",
    "\n",
    "# Fitting the training data to the RandomForestRegressor model\n",
    "RF_model.fit(x_train,y_train)\n",
    "\n",
    "# predicting the target for testing data\n",
    "y_pred_RF=RF_model.predict(x_test)"
   ]
  },
  {
   "cell_type": "code",
   "execution_count": null,
   "id": "a0730d1e-7cd3-46c8-9896-a03a6a987cb4",
   "metadata": {
    "scrolled": true
   },
   "outputs": [],
   "source": [
    "# Evaluating the RandomForestRegressor model's performance by R2_score\n",
    "RF_R2=r2_score(y_test,y_pred_RF)\n",
    "print(f'r2_score(Rf) : {RF_R2}')"
   ]
  },
  {
   "cell_type": "markdown",
   "id": "d11e33b8-bf5a-45c6-9228-d99fd69867e8",
   "metadata": {},
   "source": [
    "#### 8.3.1 Hyperparameter Tuning"
   ]
  },
  {
   "cell_type": "code",
   "execution_count": null,
   "id": "a089c986-42aa-40c7-a345-967e2ae21705",
   "metadata": {},
   "outputs": [],
   "source": [
    "# Initializing RandomForestRegressor model\n",
    "RF_ht=RandomForestRegressor()"
   ]
  },
  {
   "cell_type": "code",
   "execution_count": null,
   "id": "4774ed41-ece1-4ead-adb7-723621f00c02",
   "metadata": {},
   "outputs": [],
   "source": [
    "# Creating a dictionary with possible Hyperparameters\n",
    "params={'n_estimators':[100,200],\n",
    "        'max_depth':list(range(1,20)),\n",
    "        'min_samples_split':list(range(1,10)),\n",
    "        'min_samples_leaf':list(range(1,10)),\n",
    "        }"
   ]
  },
  {
   "cell_type": "code",
   "execution_count": null,
   "id": "7b2a88ab-8616-48d8-a68b-48512c689fb8",
   "metadata": {},
   "outputs": [],
   "source": [
    "# Initializing RandomizedSearchCV\n",
    "RF_cv=RandomizedSearchCV(estimator=RF_ht,\n",
    "                    param_distributions=params,\n",
    "                    scoring='r2',\n",
    "                    n_jobs=-1,\n",
    "                    cv=3,\n",
    "                    verbose=3)"
   ]
  },
  {
   "cell_type": "code",
   "execution_count": null,
   "id": "714f467c-6b42-48ab-b13e-a52c28dfe578",
   "metadata": {},
   "outputs": [],
   "source": [
    "# Fitting the training data to the RandomizedSearchCV\n",
    "RF_cv.fit(x_train,y_train)"
   ]
  },
  {
   "cell_type": "code",
   "execution_count": null,
   "id": "60de5082-4c68-4707-81bb-c566255b944e",
   "metadata": {},
   "outputs": [],
   "source": [
    "# Getting the best hyperparameters\n",
    "RF_cv.best_params_"
   ]
  },
  {
   "cell_type": "code",
   "execution_count": null,
   "id": "adb3007e-9da7-45c8-a6aa-bd7741ecada9",
   "metadata": {},
   "outputs": [],
   "source": [
    "# Initializing RandomForestRegressor model\n",
    "random_forest_model=RandomForestRegressor(n_estimators=200,max_depth=7,min_samples_leaf=1,min_samples_split=5)\n",
    "\n",
    "# Fitting the training data to the RandomForestRegressor model\n",
    "random_forest_model.fit(x_train,y_train)\n",
    "\n",
    "# predicting the target for testing data\n",
    "y_pred_ht=random_forest_model.predict(x_test)"
   ]
  },
  {
   "cell_type": "code",
   "execution_count": null,
   "id": "c6cbc953-c9ef-46e4-8225-7103617418b0",
   "metadata": {},
   "outputs": [],
   "source": [
    "# Evaluating the RandomForestRegressor model's performance by R2_score\n",
    "RF_hp_R2=r2_score(y_test,y_pred_ht)\n",
    "print(f'r2_score(Rf)            : {RF_hp_R2}')\n",
    "print(f'mean_squared_error      : {mean_squared_error(y_test,y_pred_ht)}')\n",
    "print(f'mean_absolute_error     : {mean_absolute_error(y_test,y_pred_ht)}')\n",
    "print(f'root_mean_square_error  : {np.sqrt(mean_squared_error(y_test,y_pred_ht))}')"
   ]
  },
  {
   "cell_type": "markdown",
   "id": "2afd7740-31de-45ff-b23e-451fb8b58efb",
   "metadata": {},
   "source": [
    "### 8.4 KNN"
   ]
  },
  {
   "cell_type": "code",
   "execution_count": null,
   "id": "5abae929-cd29-43db-af76-5490fa88cd31",
   "metadata": {},
   "outputs": [],
   "source": [
    "#Initializing KNeighborsRegressor model\n",
    "knn=KNeighborsRegressor(n_neighbors=5)\n",
    "\n",
    "#Fitting the training data to the KNeighborsRegressor model\n",
    "knn.fit(x_train,y_train)\n",
    "\n",
    "# predicting the target for testing data\n",
    "y_pred_knn=knn.predict(x_test)"
   ]
  },
  {
   "cell_type": "code",
   "execution_count": null,
   "id": "d52b6cd6-1a69-4bcf-a637-a1a73f27f92d",
   "metadata": {},
   "outputs": [],
   "source": [
    "# Evaluating the KNN model's performance by R2_score\n",
    "Knn_R2=r2_score(y_test,y_pred_knn)\n",
    "print(f'r2_score(knn) : {Knn_R2}')"
   ]
  },
  {
   "cell_type": "markdown",
   "id": "5d44de01-612e-426e-8819-0d58328970a8",
   "metadata": {},
   "source": [
    "#### 8.4.1 Hyperparameter Tuning"
   ]
  },
  {
   "cell_type": "code",
   "execution_count": null,
   "id": "f5fa7684-302e-44dc-adc2-a91eb4c74318",
   "metadata": {},
   "outputs": [],
   "source": [
    "# Initialize KNN model\n",
    "knn = KNeighborsRegressor()\n",
    "\n",
    "# creating a dictionary with possible parameters\n",
    "param_grid = {'n_neighbors': range(1, 30, 2),  # Try odd values from 1 to 29\n",
    "              'weights': ['uniform', 'distance'],  \n",
    "              'metric': ['euclidean', 'manhattan']\n",
    "              }\n"
   ]
  },
  {
   "cell_type": "code",
   "execution_count": null,
   "id": "12978d89-e9ab-4023-9142-32a3e4dfbd56",
   "metadata": {},
   "outputs": [],
   "source": [
    "# Initializing RandomizedSearch CV\n",
    "knn_cv= RandomizedSearchCV(knn, param_distributions=param_grid, cv=5, scoring='r2', n_jobs=-1)\n",
    "\n",
    "# Fitting the training data to the RandomizedSearchCV\n",
    "knn_cv.fit(x_train, y_train)\n"
   ]
  },
  {
   "cell_type": "code",
   "execution_count": null,
   "id": "2c38112b-413f-405f-9916-0465e86aecdc",
   "metadata": {},
   "outputs": [],
   "source": [
    "# Getting the best hyperparameters\n",
    "knn_cv.best_params_"
   ]
  },
  {
   "cell_type": "code",
   "execution_count": null,
   "id": "91ffb759-00f4-486b-a4f9-43b73febfd10",
   "metadata": {},
   "outputs": [],
   "source": [
    "# Initializing KNN model\n",
    "Knn_model=KNeighborsRegressor(weights='distance', n_neighbors= 9, metric='manhattan')\n",
    "\n",
    "# Fitting the training data to the KNN model\n",
    "Knn_model.fit(x_train,y_train)\n",
    "\n",
    "# predicting the target for testing data\n",
    "y_pred_ht_knn=Knn_model.predict(x_test)"
   ]
  },
  {
   "cell_type": "code",
   "execution_count": null,
   "id": "8c26c5fd-1389-409b-8283-e5b251106062",
   "metadata": {},
   "outputs": [],
   "source": [
    "# Evaluating the KNN model's performance by R2_score\n",
    "Knn_hp_R2=r2_score(y_test,y_pred_ht_knn)\n",
    "print(f'r2_score(knn)           : {Knn_hp_R2}')\n",
    "print(f'mean_squared_error      : {mean_squared_error(y_test,y_pred_ht_knn)}')\n",
    "print(f'mean_absolute_error     : {mean_absolute_error(y_test,y_pred_ht_knn)}')\n",
    "print(f'root_mean_square_error  : {np.sqrt(mean_squared_error(y_test,y_pred_ht_knn))}')"
   ]
  },
  {
   "cell_type": "markdown",
   "id": "2b0c18c8-b48d-4975-be8e-a7a9d93a4b7d",
   "metadata": {},
   "source": [
    "### 8.5 XGBoost"
   ]
  },
  {
   "cell_type": "code",
   "execution_count": null,
   "id": "3b578b66-c08c-4ef1-8604-ac85fb5471bc",
   "metadata": {},
   "outputs": [],
   "source": [
    "#initializing XGBoostRegressor\n",
    "XGB=XGBRegressor()\n",
    "\n",
    "#fitting the training data to the model\n",
    "XGB.fit(x_train,y_train)\n",
    "\n",
    "#predicting the target for testing data\n",
    "y_pred_XGB=XGB.predict(x_test)\n"
   ]
  },
  {
   "cell_type": "code",
   "execution_count": null,
   "id": "e8649e73-aac2-49c2-ad4e-bb92d51db6b2",
   "metadata": {},
   "outputs": [],
   "source": [
    "# Evaluating the XGBoost's performance by R2_score\n",
    "Xgb_R2=r2_score(y_test,y_pred_XGB)\n",
    "print(f' r2_score(XGB) : {Xgb_R2}')"
   ]
  },
  {
   "cell_type": "markdown",
   "id": "5019a552-f66c-4095-a7cb-fb924a1b1680",
   "metadata": {},
   "source": [
    "#### 8.4.1 Hyperparameter Tuning"
   ]
  },
  {
   "cell_type": "code",
   "execution_count": null,
   "id": "24fa4fe9-3417-469a-91c3-c680444c074f",
   "metadata": {},
   "outputs": [],
   "source": [
    "# Creating a dictionary with possible Hyperparameters\n",
    "xg_param_grid = {\"gamma\":[0,0.1,0.2,0.4],\n",
    "                 \"learning_rate\":[0.01,0.02,0.03,0.04,0.05,0.06,0.1],\n",
    "                 \"max_depth\":list(range(1,11)),\n",
    "                 \"n_estimators\":[50,65,80,100,150],\n",
    "                 \"alpha\":[0,0.1,0.5,1],\n",
    "                 }"
   ]
  },
  {
   "cell_type": "code",
   "execution_count": null,
   "id": "ba978a0b-a9c7-4292-9f5f-acd138093d11",
   "metadata": {},
   "outputs": [],
   "source": [
    "# Initializing XGBRegressor model\n",
    "XGB_hp = XGBRegressor()\n",
    "\n",
    "# Initializing RandomizedSearchCV\n",
    "xgb_rcv = RandomizedSearchCV(estimator=XGB_hp, scoring=\"r2\", param_distributions=xg_param_grid , cv=5, verbose=3,n_jobs=-1)"
   ]
  },
  {
   "cell_type": "code",
   "execution_count": null,
   "id": "9e35e730-6b7a-45a4-8385-44cf9e124651",
   "metadata": {},
   "outputs": [],
   "source": [
    "# Fitting the training data to the RandomizedSearchCV\n",
    "xgb_rcv.fit(x_train, y_train)"
   ]
  },
  {
   "cell_type": "code",
   "execution_count": null,
   "id": "a733b313-8a8c-4226-ac9c-8a0dd3342455",
   "metadata": {},
   "outputs": [],
   "source": [
    "#getting the best params\n",
    "xgb_rcv.best_params_"
   ]
  },
  {
   "cell_type": "code",
   "execution_count": null,
   "id": "4fb906e8-5449-4d9f-aa8b-16daa11a6881",
   "metadata": {},
   "outputs": [],
   "source": [
    "#initializing XGB model\n",
    "xgb_model=XGBRegressor(alpha=0, gamma=0,learning_rate=0.2, max_depth=2, n_estimators=65)\n",
    "\n",
    "#fitting the training data to the model\n",
    "xgb_model.fit(x_train,y_train)\n",
    "\n",
    "#predicting the target for the testing data\n",
    "xgb_y_pred=xgb_model.predict(x_test)"
   ]
  },
  {
   "cell_type": "code",
   "execution_count": null,
   "id": "d5a44ee4-2d0c-4d53-95e4-57c9aa071d88",
   "metadata": {},
   "outputs": [],
   "source": [
    "# Evaluating the XGBoost's performance by R2_score\n",
    "Xgb_hp_R2=r2_score(y_test,xgb_y_pred)\n",
    "print(f'r2_score               : {Xgb_hp_R2}')\n",
    "print(f'mean_squared_error     : {mean_squared_error(y_test,xgb_y_pred,)}')\n",
    "print(f'mean_absolute_error    : {mean_absolute_error(y_test,xgb_y_pred)}')\n",
    "print(f'root_mean_square_error : {np.sqrt(mean_squared_error(y_test,xgb_y_pred))}')"
   ]
  },
  {
   "cell_type": "markdown",
   "id": "0ab8428d-b200-4502-8192-e716876ab272",
   "metadata": {},
   "source": [
    "### 8.5 Gradient Boosting"
   ]
  },
  {
   "cell_type": "code",
   "execution_count": null,
   "id": "04ee2140-f338-4e4c-b359-5f9ad7b77ffb",
   "metadata": {},
   "outputs": [],
   "source": [
    "#initializing the model\n",
    "gbm=GradientBoostingRegressor()\n",
    "\n",
    "#fitting the training data to the model\n",
    "gbm.fit(x_train,y_train)\n",
    "\n",
    "#predicting the target for the testing data\n",
    "y_pred_gbm=gbm.predict(x_test)\n"
   ]
  },
  {
   "cell_type": "code",
   "execution_count": null,
   "id": "8916ef2f-64e4-4c49-83d8-a88f6fdebce8",
   "metadata": {},
   "outputs": [],
   "source": [
    "# Evaluating the GradientBoosting's performance by R2_score\n",
    "gbm_R2=r2_score(y_test,y_pred_gbm)\n",
    "print(f' r2_score(GBR) : {gbm_R2}')"
   ]
  },
  {
   "cell_type": "markdown",
   "id": "373ec4dd-1875-4a6f-9493-dfa8fd0f2030",
   "metadata": {},
   "source": [
    "#### 8.5.1 Hyperparameter Tuning"
   ]
  },
  {
   "cell_type": "code",
   "execution_count": null,
   "id": "a02dae24-9a5c-4455-815b-52218463bee8",
   "metadata": {},
   "outputs": [],
   "source": [
    "# Creating a dictionary with possible Hyperparameters\n",
    "params={'n_estimators':[100,200,300],\n",
    "        'learning_rate':[0.001,0.01,0.02,0.03,0.1],\n",
    "        'max_depth':list(range(1,20)),\n",
    "        'min_samples_split':list(range(1,10)),\n",
    "        'min_samples_leaf':list(range(1,10)),\n",
    "       }\n"
   ]
  },
  {
   "cell_type": "code",
   "execution_count": null,
   "id": "9f08c6ba-4105-4d7c-bce8-812270c306d3",
   "metadata": {},
   "outputs": [],
   "source": [
    "#initializing the model\n",
    "gbm_hp=GradientBoostingRegressor()\n",
    "\n",
    "#initializing RandomizedSearchCv\n",
    "gbm_cv=RandomizedSearchCV(estimator=gbm_hp,scoring='r2',param_distributions=params,cv=5,verbose=2,n_jobs=-1,n_iter=100)\n",
    "\n",
    "#fitting a training data into RandomizedSearchCV\n",
    "gbm_cv.fit(x_train,y_train)"
   ]
  },
  {
   "cell_type": "code",
   "execution_count": null,
   "id": "33d3bf63-201f-4c4f-bd95-959809c3fc47",
   "metadata": {},
   "outputs": [],
   "source": [
    "#getting the best params\n",
    "gbm_cv.best_params_"
   ]
  },
  {
   "cell_type": "code",
   "execution_count": null,
   "id": "c183849e-9029-4bdf-929f-59d45504169e",
   "metadata": {},
   "outputs": [],
   "source": [
    "#initializing the model\n",
    "gbr_best=GradientBoostingRegressor(n_estimators=200, min_samples_split=5, min_samples_leaf=5, max_depth=4, learning_rate=0.1)\n",
    "\n",
    "#fitting the training data to the model\n",
    "gbr_best.fit(x_train,y_train) \n",
    "\n",
    "#predicting the target for the testing data\n",
    "y_pred_gbr_hp=gbr_best.predict(x_test)"
   ]
  },
  {
   "cell_type": "code",
   "execution_count": null,
   "id": "a4d20a47-058f-4006-954b-81d553f7966d",
   "metadata": {},
   "outputs": [],
   "source": [
    "# Evaluating the GradientBoosting's performance by R2_score\n",
    "Gb_hp_R2=r2_score(y_test,y_pred_gbr_hp)\n",
    "print(f'r2_score (gb)          : {Gb_hp_R2}')\n",
    "print(f'mean_squared_error     : {mean_squared_error(y_test,y_pred_gbr_hp)}')\n",
    "print(f'mean_absolute_error    : {mean_absolute_error(y_test,y_pred_gbr_hp)}')\n",
    "print(f'root_mean_square_error : {np.sqrt(mean_squared_error(y_test,y_pred_gbr_hp))}')"
   ]
  },
  {
   "cell_type": "code",
   "execution_count": null,
   "id": "b5b4f757-e2da-4a61-aaa0-63cdc80b390e",
   "metadata": {},
   "outputs": [],
   "source": [
    "#checking whether the best model has overfitted \n",
    "from sklearn.model_selection import KFold, cross_val_score\n",
    "\n",
    "cv = KFold(n_splits=5, shuffle=True, random_state=42)\n",
    "cross_val_results = cross_val_score(gbr_best, x, y, scoring='r2', cv=cv)\n",
    "print(f'Std Dev with K-Fold: {np.std(cross_val_results)}')"
   ]
  },
  {
   "cell_type": "markdown",
   "id": "725caa43-ab98-4f8a-9fc1-2d9e540dd645",
   "metadata": {},
   "source": [
    "### 8.6 SVR"
   ]
  },
  {
   "cell_type": "code",
   "execution_count": null,
   "id": "f042c179-52d2-4ca0-a711-bb93eb84b226",
   "metadata": {},
   "outputs": [],
   "source": [
    "# Initializing SVR model\n",
    "svr_model=SVR()\n",
    "\n",
    "# Fitting the training data to the SVR model\n",
    "svr_model.fit(x_train,y_train)\n",
    "\n",
    "# predicting the target for testing data\n",
    "y_pred_svr=svr_model.predict(x_test)"
   ]
  },
  {
   "cell_type": "code",
   "execution_count": null,
   "id": "7833e0dd-ec85-43fd-a089-b07cd4f193af",
   "metadata": {},
   "outputs": [],
   "source": [
    "# Evaluating the SVR's performance by R2_score\n",
    "Svr_R2=r2_score(y_test,y_pred_svr)\n",
    "print(f' r2_score (svr) : {Svr_R2}')"
   ]
  },
  {
   "cell_type": "markdown",
   "id": "49e38035-4881-49fb-83a3-96d7312945aa",
   "metadata": {},
   "source": [
    "#### 8.6.1 Hyperparameter Tuning"
   ]
  },
  {
   "cell_type": "code",
   "execution_count": null,
   "id": "c0cb6f3b-41f4-4f91-9117-c5894351d0d3",
   "metadata": {},
   "outputs": [],
   "source": [
    "#initializing the model\n",
    "hp_model=SVR()"
   ]
  },
  {
   "cell_type": "code",
   "execution_count": null,
   "id": "2be7994f-56d2-4f61-af63-19aed9079a8c",
   "metadata": {},
   "outputs": [],
   "source": [
    "# Creating a dictionary with possible Hyperparameters\n",
    "params={'kernel':['linear', 'rbf'],\n",
    "        'degree':[1,2,3,4,5],\n",
    "        'gamma':['scale', 'auto'],\n",
    "        'C':[0.1, 1, 10, 100]\n",
    "        }"
   ]
  },
  {
   "cell_type": "code",
   "execution_count": null,
   "id": "b8f89267-24a6-484e-a54d-c49f99c1b08f",
   "metadata": {},
   "outputs": [],
   "source": [
    "# Initializing RandomizedSearchCV\n",
    "svr_cv=RandomizedSearchCV(estimator=hp_model,\n",
    "                          param_distributions=params,\n",
    "                          scoring='r2',\n",
    "                          n_jobs=-1,\n",
    "                          cv=5,\n",
    "                          verbose=3\n",
    "                      \n",
    "                     )"
   ]
  },
  {
   "cell_type": "code",
   "execution_count": null,
   "id": "5fb978ab-11b9-4d96-8ccb-6c05e0244bcc",
   "metadata": {},
   "outputs": [],
   "source": [
    "# Fitting the training data to the RandomizedSearchCV\n",
    "svr_cv.fit(x_train,y_train)"
   ]
  },
  {
   "cell_type": "code",
   "execution_count": null,
   "id": "cb6a6e75-47cd-4f57-9770-2ad4b56f6dcd",
   "metadata": {},
   "outputs": [],
   "source": [
    "# Getting best hyperparameters\n",
    "svr_cv.best_params_"
   ]
  },
  {
   "cell_type": "code",
   "execution_count": null,
   "id": "dbc433d0-4d80-4521-a219-96f36d26fc01",
   "metadata": {},
   "outputs": [],
   "source": [
    "# Initializing SVR model\n",
    "svr_model_hp=SVR(kernel='linear',gamma='scale',degree=5,C=100)\n",
    "\n",
    "# Fitting the training data to the SVR model\n",
    "svr_model_hp.fit(x_train,y_train)\n",
    "\n",
    "# predicting the target for testing data\n",
    "y_pred_hp_svr=svr_model_hp.predict(x_test)"
   ]
  },
  {
   "cell_type": "code",
   "execution_count": null,
   "id": "6ebb91e4-4655-41b8-86b9-03f27b294ba4",
   "metadata": {},
   "outputs": [],
   "source": [
    "# Evaluating the SVR model's performance by R2_score \n",
    "Svr_hp_R2=r2_score(y_test,y_pred_hp_svr)\n",
    "print(f'r2_score (xgb)          : {Svr_hp_R2}')\n",
    "print(f'mean_squared_error      : {mean_squared_error(y_test,y_pred_hp_svr)}')\n",
    "print(f'mean_absolute_error     : {mean_absolute_error(y_test,y_pred_hp_svr)}')\n",
    "print(f'root_mean_square_error  : {np.sqrt(mean_squared_error(y_test,y_pred_hp_svr))}')"
   ]
  },
  {
   "cell_type": "markdown",
   "id": "1147e6db-684d-4bc6-8b50-9d17ebbb9cee",
   "metadata": {},
   "source": [
    "### 9. Model Comparison Report"
   ]
  },
  {
   "cell_type": "code",
   "execution_count": null,
   "id": "51e4e92d-18f2-464f-94c9-29bebf2f7eac",
   "metadata": {},
   "outputs": [],
   "source": [
    "comparison_dict = {'Model':['LinearRegression','DecisionTreeRegressor','RandomForestRegressor','KNN','XGBoostRegressor','GradientBoostingRegressor','SVR'],\n",
    "                   'R2-Score':[Linear_R2,Dt_hp_R2,RF_hp_R2,Knn_hp_R2,Xgb_hp_R2,Gb_hp_R2,Svr_hp_R2]\n",
    "                  }\n",
    "    \n",
    "\n",
    "# Creating DataFrame\n",
    "comparison_df = pd.DataFrame(comparison_dict)\n",
    "print(comparison_df)"
   ]
  },
  {
   "cell_type": "code",
   "execution_count": null,
   "id": "22b5ed1e-39bb-4038-a9c0-a4e01196042f",
   "metadata": {},
   "outputs": [],
   "source": [
    "comparison_df = comparison_df.sort_values(by='R2-Score', ascending=True)\n",
    "\n",
    "max_index = comparison_df['R2-Score'].idxmax() \n",
    "\n",
    "plt.figure(figsize=(15, 5))\n",
    "sns.lineplot(data=comparison_df, x='Model', y='R2-Score', marker='o', color='red', label=\"Model Performance\")\n",
    "\n",
    "\n",
    "plt.xlabel(\"Model Name\")\n",
    "plt.ylabel(\"R2-Score\")\n",
    "\n",
    "plt.title(\"Comparison of Model Performance (R2_Score)\")\n",
    "plt.show()"
   ]
  },
  {
   "cell_type": "markdown",
   "id": "bd55510f-c29c-4e63-a5e2-8404b2f95c51",
   "metadata": {},
   "source": [
    "### 10. Conclusion"
   ]
  },
  {
   "cell_type": "markdown",
   "id": "a69903eb-34b1-49fd-97bb-a2337560d113",
   "metadata": {},
   "source": [
    "Among the different algorithms we used to train our models, the Gradient Boosting model performed the best. The model worked well after being checked for overfitting, keeping the standard deviation within the allowed range (<=0.05).Additionally, we evaluated multiple metrics, and the error also remained within the acceptable range(<10%) indicating good model performance. These results confirms that the GRADIENT BOOSTING model is well-suited for this dataset. "
   ]
  },
  {
   "cell_type": "markdown",
   "id": "7b8ab6e7-7979-48c7-a41c-f2f205606a01",
   "metadata": {},
   "source": [
    "### 11. Report on challenges faced"
   ]
  },
  {
   "cell_type": "markdown",
   "id": "b66bcbb9-b07a-4e25-8d32-0c63ee0a0bbf",
   "metadata": {},
   "source": [
    "1. We were provided with two datasets,and initially, handling them was challenging, especially when extracting features from the hourly dataset.\n",
    "2. With many attributes in the dataset, understanding and analyzing different domains was quite challenging.\n",
    "3. And also finding the relations between features and target are challenging.\n",
    " "
   ]
  }
 ],
 "metadata": {
  "kernelspec": {
   "display_name": "Python 3 (ipykernel)",
   "language": "python",
   "name": "python3"
  },
  "language_info": {
   "codemirror_mode": {
    "name": "ipython",
    "version": 3
   },
   "file_extension": ".py",
   "mimetype": "text/x-python",
   "name": "python",
   "nbconvert_exporter": "python",
   "pygments_lexer": "ipython3",
   "version": "3.11.7"
  }
 },
 "nbformat": 4,
 "nbformat_minor": 5
}
